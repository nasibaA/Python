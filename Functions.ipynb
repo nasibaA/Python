{
 "cells": [
  {
   "cell_type": "code",
   "execution_count": 2,
   "id": "0ff80d3a",
   "metadata": {},
   "outputs": [],
   "source": [
    "def hello_func():\n",
    "    pass # means pass for now"
   ]
  },
  {
   "cell_type": "code",
   "execution_count": 6,
   "id": "a0d05ba0",
   "metadata": {},
   "outputs": [],
   "source": [
    "def hello_func():\n",
    "    print('Hello Function!')"
   ]
  },
  {
   "cell_type": "code",
   "execution_count": 8,
   "id": "1a80a4de",
   "metadata": {},
   "outputs": [
    {
     "name": "stdout",
     "output_type": "stream",
     "text": [
      "Hello Function!\n",
      "Hello Function!\n"
     ]
    }
   ],
   "source": [
    "hello_func()\n",
    "hello_func()"
   ]
  },
  {
   "cell_type": "code",
   "execution_count": 11,
   "id": "625b8698",
   "metadata": {},
   "outputs": [],
   "source": [
    "def hello_func():\n",
    "    return 'Hello Function!'"
   ]
  },
  {
   "cell_type": "code",
   "execution_count": 12,
   "id": "1412d1c5",
   "metadata": {},
   "outputs": [
    {
     "name": "stdout",
     "output_type": "stream",
     "text": [
      "HELLO FUNCTION!\n"
     ]
    }
   ],
   "source": [
    "print(hello_func().upper())"
   ]
  },
  {
   "cell_type": "code",
   "execution_count": 13,
   "id": "11d2b519",
   "metadata": {},
   "outputs": [],
   "source": [
    "def hello_func(greeting):\n",
    "    return '{} Function!'.format(greeting)"
   ]
  },
  {
   "cell_type": "code",
   "execution_count": 15,
   "id": "780f9c30",
   "metadata": {},
   "outputs": [
    {
     "name": "stdout",
     "output_type": "stream",
     "text": [
      "Hi Function!\n"
     ]
    }
   ],
   "source": [
    "print(hello_func('Hi'))"
   ]
  },
  {
   "cell_type": "code",
   "execution_count": 20,
   "id": "dc065a6f",
   "metadata": {},
   "outputs": [],
   "source": [
    "def hello_func(greeting,name = 'You'):\n",
    "    return '{},{}'.format(greeting,name)"
   ]
  },
  {
   "cell_type": "code",
   "execution_count": 21,
   "id": "463b6ddb",
   "metadata": {},
   "outputs": [
    {
     "name": "stdout",
     "output_type": "stream",
     "text": [
      "Hi,You\n"
     ]
    }
   ],
   "source": [
    "print(hello_func('Hi'))"
   ]
  },
  {
   "cell_type": "code",
   "execution_count": 22,
   "id": "10a2bd55",
   "metadata": {},
   "outputs": [],
   "source": [
    "def student_info(*args,**kwargs):\n",
    "    print(args)\n",
    "    print(kwargs)"
   ]
  },
  {
   "cell_type": "code",
   "execution_count": 23,
   "id": "053224b8",
   "metadata": {},
   "outputs": [
    {
     "name": "stdout",
     "output_type": "stream",
     "text": [
      "('Math', 'Art')\n",
      "{'name': 'Nasiba', 'age': 25}\n"
     ]
    }
   ],
   "source": [
    "student_info('Math','Art',name = 'Nasiba',age=25)"
   ]
  },
  {
   "cell_type": "code",
   "execution_count": 25,
   "id": "5875b784",
   "metadata": {},
   "outputs": [],
   "source": [
    "# number of days per month.First value placeholder for indexing purposes.\n",
    "month_days = [0,31,28,31,30,31,30,31,31,30,31,30,31]\n",
    "\n",
    "def is_leap(year):\n",
    "    \"\"\"Return True for leap years, False for non-leap years.\"\"\"\n",
    "    return year% 4 == 0 and (year % 100 != 0 or year % 400 == 0)\n",
    "\n",
    "def days_in_month(year,month):\n",
    "    \"\"\"Return number of days in that month in that year.\"\"\"\n",
    "    \n",
    "    if not 1<=month<=12:\n",
    "        return 'Invalid Month'\n",
    "        \n",
    "    if month == 2 and is_leap(year):\n",
    "        return 29 \n",
    "    return month_days[month]"
   ]
  },
  {
   "cell_type": "code",
   "execution_count": 28,
   "id": "e4141053",
   "metadata": {},
   "outputs": [
    {
     "name": "stdout",
     "output_type": "stream",
     "text": [
      "31\n"
     ]
    }
   ],
   "source": [
    "print(days_in_month(2017,3))"
   ]
  },
  {
   "cell_type": "code",
   "execution_count": 27,
   "id": "8d005c1a",
   "metadata": {},
   "outputs": [
    {
     "name": "stdout",
     "output_type": "stream",
     "text": [
      "False\n"
     ]
    }
   ],
   "source": [
    "print(is_leap(2017))"
   ]
  },
  {
   "cell_type": "code",
   "execution_count": null,
   "id": "493166eb",
   "metadata": {},
   "outputs": [],
   "source": []
  }
 ],
 "metadata": {
  "kernelspec": {
   "display_name": "Python 3 (ipykernel)",
   "language": "python",
   "name": "python3"
  },
  "language_info": {
   "codemirror_mode": {
    "name": "ipython",
    "version": 3
   },
   "file_extension": ".py",
   "mimetype": "text/x-python",
   "name": "python",
   "nbconvert_exporter": "python",
   "pygments_lexer": "ipython3",
   "version": "3.9.7"
  }
 },
 "nbformat": 4,
 "nbformat_minor": 5
}
