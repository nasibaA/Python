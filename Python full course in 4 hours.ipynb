{
 "cells": [
  {
   "cell_type": "code",
   "execution_count": null,
   "id": "6a4ffddc",
   "metadata": {},
   "outputs": [],
   "source": [
    "# learning getting input number from user "
   ]
  },
  {
   "cell_type": "code",
   "execution_count": 1,
   "id": "280f7cf4",
   "metadata": {},
   "outputs": [
    {
     "name": "stdout",
     "output_type": "stream",
     "text": [
      "enter a number: 3.7\n",
      "enter another number: 4\n",
      "7.7\n"
     ]
    }
   ],
   "source": [
    "num1 = float(input('enter a number: '))\n",
    "num2 = float(input('enter another number: '))\n",
    "\n",
    "result = num1 + num2\n",
    "\n",
    "print(result)"
   ]
  },
  {
   "cell_type": "code",
   "execution_count": 7,
   "id": "ee0160de",
   "metadata": {},
   "outputs": [
    {
     "name": "stdout",
     "output_type": "stream",
     "text": [
      "enter the color: red\n",
      "enter plural_noun: balls\n",
      "enter celebrity: janifer lops\n",
      "Roses are red\n",
      "balls are blue\n",
      "I love janifer lops\n"
     ]
    }
   ],
   "source": [
    "# madlips game \n",
    "\n",
    "color = input('enter the color: ')\n",
    "plural_noun = input('enter plural_noun: ')\n",
    "celebrity = input('enter celebrity: ')\n",
    "\n",
    "\n",
    "print(\"Roses are \" + color)\n",
    "print(plural_noun + \" are blue\")\n",
    "print(\"I love \" + celebrity)\n",
    "\n"
   ]
  },
  {
   "cell_type": "code",
   "execution_count": 8,
   "id": "e9c8c634",
   "metadata": {},
   "outputs": [
    {
     "name": "stdout",
     "output_type": "stream",
     "text": [
      "['Kevin', 'Karen', 'Jim', 'Oscar', 'Toby', 2, 7, 12, 34, 67, 89]\n"
     ]
    }
   ],
   "source": [
    "# List \n",
    "lucky_numbers = [2,7,12,34,67,89]\n",
    "friends = [\"Kevin\",\"Karen\",\"Jim\",\"Oscar\",\"Toby\"]\n",
    "\n",
    "friends.extend(lucky_numbers)\n",
    "print(friends)"
   ]
  },
  {
   "cell_type": "code",
   "execution_count": 10,
   "id": "b0231bf0",
   "metadata": {},
   "outputs": [
    {
     "name": "stdout",
     "output_type": "stream",
     "text": [
      "['Kevin', 'Karen', 'Jim', 'Oscar', 'Toby', 'Nasiba']\n"
     ]
    }
   ],
   "source": [
    "# List \n",
    "lucky_numbers = [2,7,12,34,67,89]\n",
    "friends = [\"Kevin\",\"Karen\",\"Jim\",\"Oscar\",\"Toby\"]\n",
    "\n",
    "friends.append(\"Nasiba\")\n",
    "print(friends)"
   ]
  },
  {
   "cell_type": "code",
   "execution_count": 11,
   "id": "94f23974",
   "metadata": {},
   "outputs": [
    {
     "name": "stdout",
     "output_type": "stream",
     "text": [
      "['Kevin', 'Nasiba', 'Karen', 'Jim', 'Oscar', 'Toby']\n"
     ]
    }
   ],
   "source": [
    "# List \n",
    "lucky_numbers = [2,7,12,34,67,89]\n",
    "friends = [\"Kevin\",\"Karen\",\"Jim\",\"Oscar\",\"Toby\"]\n",
    "\n",
    "friends.insert(1,\"Nasiba\")\n",
    "print(friends)"
   ]
  },
  {
   "cell_type": "code",
   "execution_count": 13,
   "id": "dbeef56d",
   "metadata": {},
   "outputs": [
    {
     "name": "stdout",
     "output_type": "stream",
     "text": [
      "['Kevin', 'Karen', 'Jim', 'Oscar']\n"
     ]
    }
   ],
   "source": [
    "# List \n",
    "lucky_numbers = [2,7,12,34,67,89]\n",
    "friends = [\"Kevin\",\"Karen\",\"Jim\",\"Oscar\",\"Toby\"]\n",
    "\n",
    "friends.remove(\"Toby\")\n",
    "print(friends)"
   ]
  },
  {
   "cell_type": "code",
   "execution_count": 14,
   "id": "4b245a4b",
   "metadata": {},
   "outputs": [
    {
     "name": "stdout",
     "output_type": "stream",
     "text": [
      "[]\n"
     ]
    }
   ],
   "source": [
    "# List \n",
    "lucky_numbers = [2,7,12,34,67,89]\n",
    "friends = [\"Kevin\",\"Karen\",\"Jim\",\"Oscar\",\"Toby\"]\n",
    "\n",
    "friends.clear()\n",
    "print(friends)"
   ]
  },
  {
   "cell_type": "code",
   "execution_count": 17,
   "id": "289996bc",
   "metadata": {},
   "outputs": [
    {
     "name": "stdout",
     "output_type": "stream",
     "text": [
      "0\n"
     ]
    }
   ],
   "source": [
    "# List \n",
    "lucky_numbers = [2,7,12,34,67,89]\n",
    "friends = [\"Kevin\",\"Karen\",\"Jim\",\"Oscar\",\"Toby\",\"Kevin\"]\n",
    "\n",
    "\n",
    "print(friends.index(\"Kevin\"))"
   ]
  },
  {
   "cell_type": "code",
   "execution_count": 18,
   "id": "0ff85fc5",
   "metadata": {},
   "outputs": [
    {
     "name": "stdout",
     "output_type": "stream",
     "text": [
      "2\n"
     ]
    }
   ],
   "source": [
    "# List \n",
    "lucky_numbers = [2,7,12,34,67,89]\n",
    "friends = [\"Kevin\",\"Karen\",\"Jim\",\"Oscar\",\"Toby\",\"Kevin\"]\n",
    "\n",
    "\n",
    "print(friends.count(\"Kevin\"))"
   ]
  },
  {
   "cell_type": "code",
   "execution_count": 21,
   "id": "ba31d5e4",
   "metadata": {},
   "outputs": [
    {
     "name": "stdout",
     "output_type": "stream",
     "text": [
      "['Jim', 'Karen', 'Kevin', 'Kevin', 'Oscar', 'Toby']\n"
     ]
    }
   ],
   "source": [
    "# List \n",
    "lucky_numbers = [2,7,12,34,67,89]\n",
    "friends = [\"Kevin\",\"Karen\",\"Jim\",\"Oscar\",\"Toby\",\"Kevin\"]\n",
    "\n",
    "friends.sort()\n",
    "print(friends)"
   ]
  },
  {
   "cell_type": "code",
   "execution_count": null,
   "id": "b66119ae",
   "metadata": {},
   "outputs": [],
   "source": [
    "#Tuples cannot change "
   ]
  },
  {
   "cell_type": "code",
   "execution_count": 31,
   "id": "e10abb8b",
   "metadata": {},
   "outputs": [],
   "source": [
    "# functions \n",
    "def sayhi(name,age):\n",
    "    print(\"Hello \" + name + \" , you are \" + str(age))"
   ]
  },
  {
   "cell_type": "code",
   "execution_count": 32,
   "id": "39d69c73",
   "metadata": {},
   "outputs": [
    {
     "name": "stdout",
     "output_type": "stream",
     "text": [
      "Hello Nasiba , you are 31\n"
     ]
    }
   ],
   "source": [
    "sayhi(\"Nasiba\",31)"
   ]
  },
  {
   "cell_type": "code",
   "execution_count": 35,
   "id": "24618bc8",
   "metadata": {},
   "outputs": [],
   "source": [
    "def cube(num):\n",
    "    return(num*num*num)"
   ]
  },
  {
   "cell_type": "code",
   "execution_count": 37,
   "id": "01b774eb",
   "metadata": {},
   "outputs": [
    {
     "name": "stdout",
     "output_type": "stream",
     "text": [
      "64\n"
     ]
    }
   ],
   "source": [
    "print(cube(4))"
   ]
  },
  {
   "cell_type": "code",
   "execution_count": 41,
   "id": "16aba22a",
   "metadata": {},
   "outputs": [],
   "source": [
    "def cube(num):\n",
    "    return(num*num*num)\n",
    "\n",
    "result = cube(4)# result will save result of cube4 "
   ]
  },
  {
   "cell_type": "code",
   "execution_count": 42,
   "id": "926ad6c3",
   "metadata": {},
   "outputs": [
    {
     "name": "stdout",
     "output_type": "stream",
     "text": [
      "64\n"
     ]
    }
   ],
   "source": [
    "print(result)"
   ]
  },
  {
   "cell_type": "code",
   "execution_count": 44,
   "id": "20e6d682",
   "metadata": {},
   "outputs": [
    {
     "name": "stdout",
     "output_type": "stream",
     "text": [
      "You are a male or tall or both\n"
     ]
    }
   ],
   "source": [
    "# if statement \n",
    "is_male = True\n",
    "is_tall = False\n",
    "\n",
    "if is_male or is_tall:\n",
    "    print(\"You are a male or tall or both\")\n",
    "    \n",
    "else:\n",
    "    print(\"You neither male nor tall\")\n"
   ]
  },
  {
   "cell_type": "code",
   "execution_count": 49,
   "id": "250312b4",
   "metadata": {},
   "outputs": [
    {
     "name": "stdout",
     "output_type": "stream",
     "text": [
      "You are not a male but are tall \n"
     ]
    }
   ],
   "source": [
    "# if statement \n",
    "is_male = False\n",
    "is_tall = True\n",
    "\n",
    "if is_male and is_tall:\n",
    "    print(\"You are a tall male\")\n",
    "elif is_male and not(is_tall):\n",
    "    print(\"You are a short male\")\n",
    "elif not(is_male) and is_tall:\n",
    "    print(\"You are not a male but are tall \")    \n",
    "else:\n",
    "    print(\"You are not male and not tall\")"
   ]
  },
  {
   "cell_type": "code",
   "execution_count": 50,
   "id": "053c7e63",
   "metadata": {},
   "outputs": [],
   "source": [
    "# if statement comperision\n",
    "\n",
    "def max_num(num1,num2,num3):\n",
    "    if num1>=num2 and num1>=num3:\n",
    "        return num1\n",
    "    elif num2 >= num1 and num2>=num3:\n",
    "        return num2\n",
    "    else:\n",
    "        return num3\n",
    "    "
   ]
  },
  {
   "cell_type": "code",
   "execution_count": 51,
   "id": "9a086e16",
   "metadata": {},
   "outputs": [
    {
     "data": {
      "text/plain": [
       "5"
      ]
     },
     "execution_count": 51,
     "metadata": {},
     "output_type": "execute_result"
    }
   ],
   "source": [
    "max_num(3,4,5)"
   ]
  },
  {
   "cell_type": "code",
   "execution_count": 57,
   "id": "aab50ac9",
   "metadata": {},
   "outputs": [
    {
     "name": "stdout",
     "output_type": "stream",
     "text": [
      "Enter first number: 2\n",
      "Enter operation: //\n",
      "Enter second number: 2\n",
      "invalide operation\n"
     ]
    }
   ],
   "source": [
    "# Calculator \n",
    "\n",
    "num1 = float(input(\"Enter first number: \"))\n",
    "opp = input(\"Enter operation: \")\n",
    "num2 = float(input(\"Enter second number: \"))\n",
    "\n",
    "if opp == \"+\":\n",
    "    print(num1 + num2)\n",
    "elif opp == \"-\":\n",
    "    print(num1 - num2)\n",
    "elif opp == \"*\":\n",
    "    print(num1 * num2)\n",
    "elif opp == \"/\":\n",
    "    print(num1 / num2)\n",
    "else:\n",
    "    print(\"invalide operation\")\n",
    "\n"
   ]
  },
  {
   "cell_type": "code",
   "execution_count": 60,
   "id": "e3790b2a",
   "metadata": {},
   "outputs": [
    {
     "name": "stdout",
     "output_type": "stream",
     "text": [
      "March\n"
     ]
    }
   ],
   "source": [
    "month_conversions = {\"Jan\": \"January\",\n",
    "                    \"Feb\": \" February\",\n",
    "                    \"Mar\": \"March\",\n",
    "                    \"Apr\": \"April\",\n",
    "                    \"Ma\": \"May\",\n",
    "                    \"Jun\": \"June\",\n",
    "                    \"Jul\": \"July\",\n",
    "                    \"Aug\": \"August\",\n",
    "                    \"Sep\": \"September\",\n",
    "                    \"Oct\": \"October\",\n",
    "                    \"Nov\": \"November\",\n",
    "                    \"Dec\": \" December\"}\n",
    "\n",
    "print(month_conversions[\"Mar\"])"
   ]
  },
  {
   "cell_type": "code",
   "execution_count": 61,
   "id": "4c82b5aa",
   "metadata": {},
   "outputs": [
    {
     "name": "stdout",
     "output_type": "stream",
     "text": [
      " December\n"
     ]
    }
   ],
   "source": [
    "print(month_conversions.get(\"Dec\"))"
   ]
  },
  {
   "cell_type": "code",
   "execution_count": 62,
   "id": "6935aeab",
   "metadata": {},
   "outputs": [
    {
     "name": "stdout",
     "output_type": "stream",
     "text": [
      " Not a valid Key\n"
     ]
    }
   ],
   "source": [
    "print(month_conversions.get(\"Luv\", \" Not a valid Key\"))"
   ]
  },
  {
   "cell_type": "code",
   "execution_count": 63,
   "id": "491e0e10",
   "metadata": {},
   "outputs": [
    {
     "name": "stdout",
     "output_type": "stream",
     "text": [
      "1\n",
      "2\n",
      "3\n",
      "4\n",
      "5\n",
      "6\n",
      "7\n",
      "8\n",
      "9\n",
      "10\n",
      "done with loop\n"
     ]
    }
   ],
   "source": [
    "# While loop - will loop through until code will be true\n",
    "\n",
    "i = 1\n",
    "while i <=10:\n",
    "    print(i)\n",
    "    i +=1\n",
    "print(\"done with loop\")\n"
   ]
  },
  {
   "cell_type": "code",
   "execution_count": 69,
   "id": "44df18ae",
   "metadata": {},
   "outputs": [
    {
     "name": "stdout",
     "output_type": "stream",
     "text": [
      "Enter your guess: rfe\n",
      "Enter your guess: fef\\\n",
      "Enter your guess: chair\n",
      "You win !!!\n"
     ]
    }
   ],
   "source": [
    "secret_word = \"chair\"\n",
    "guess = \"\"\n",
    "guess_count = 0\n",
    "guess_limit = 3\n",
    "out_of_guesses = False\n",
    "while guess != secret_word and not (out_of_guesses):\n",
    "    if guess_count < guess_limit:\n",
    "        guess = input(\"Enter your guess: \")\n",
    "        guess_count +=1\n",
    "    else:\n",
    "        out_of_guesses = True\n",
    "if out_of_guesses:\n",
    "    print(\"Out of Guesses, You Lose!\")\n",
    "else:\n",
    "    print(\"You win !!!\")"
   ]
  },
  {
   "cell_type": "code",
   "execution_count": 71,
   "id": "8e0d158a",
   "metadata": {},
   "outputs": [
    {
     "name": "stdout",
     "output_type": "stream",
     "text": [
      "gjsc\n",
      "jgscjuws\n",
      "jsgfiuw\n"
     ]
    }
   ],
   "source": [
    "# for loop\n",
    "friends = [\"gjsc\",\"jgscjuws\",\"jsgfiuw\"]\n",
    "for friend in friends:\n",
    "    print(friend)\n"
   ]
  },
  {
   "cell_type": "code",
   "execution_count": 73,
   "id": "55e52c7e",
   "metadata": {},
   "outputs": [
    {
     "name": "stdout",
     "output_type": "stream",
     "text": [
      "first friend index 0\n",
      " Not first\n",
      " Not first\n"
     ]
    }
   ],
   "source": [
    "friends = [\"gjsc\",\"jgscjuws\",\"jsgfiuw\"]\n",
    "for friend in friends:\n",
    "    if friend == friends[0]:\n",
    "        print(\"first friend index 0\")\n",
    "    else:\n",
    "        print(\" Not first\")"
   ]
  },
  {
   "cell_type": "code",
   "execution_count": 75,
   "id": "9af9bae5",
   "metadata": {},
   "outputs": [],
   "source": [
    "# Exponent Function\n",
    "\n",
    "def raise_to_power(base_num,pow_num):\n",
    "    result = 1\n",
    "    for index in range(pow_num):\n",
    "        result = result * base_num\n",
    "    return result\n",
    "    "
   ]
  },
  {
   "cell_type": "code",
   "execution_count": 76,
   "id": "70b4d4c7",
   "metadata": {},
   "outputs": [
    {
     "name": "stdout",
     "output_type": "stream",
     "text": [
      "9\n"
     ]
    }
   ],
   "source": [
    "print(raise_to_power(3,2))"
   ]
  },
  {
   "cell_type": "code",
   "execution_count": 77,
   "id": "ce586307",
   "metadata": {},
   "outputs": [
    {
     "name": "stdout",
     "output_type": "stream",
     "text": [
      "1\n"
     ]
    }
   ],
   "source": [
    "# 2D Lists & Nested Loops\n",
    "number_grid=[[1,2,3,4],[4,5,6,7],[7,8,9,10]]\n",
    "print(number_grid[0][0])"
   ]
  },
  {
   "cell_type": "code",
   "execution_count": 79,
   "id": "ec14ce9d",
   "metadata": {},
   "outputs": [
    {
     "name": "stdout",
     "output_type": "stream",
     "text": [
      "1\n",
      "2\n",
      "3\n",
      "4\n",
      "4\n",
      "5\n",
      "6\n",
      "7\n",
      "7\n",
      "8\n",
      "9\n",
      "10\n"
     ]
    }
   ],
   "source": [
    "for row in number_grid:\n",
    "    for num in row:\n",
    "        print(num)"
   ]
  },
  {
   "cell_type": "code",
   "execution_count": 84,
   "id": "a0548dc0",
   "metadata": {},
   "outputs": [],
   "source": [
    "# Building a Translator\n",
    "\n",
    "def translate(phrase):\n",
    "    translation = \"\"\n",
    "    for letter in phrase:\n",
    "        if letter.lower() in \"aeiou\":\n",
    "            if letter.isupper():\n",
    "                translation = translation + \"G\"\n",
    "            else:\n",
    "                translation = translation + \"g\"\n",
    "        else:\n",
    "            translation = translation + letter\n",
    "    return translation"
   ]
  },
  {
   "cell_type": "code",
   "execution_count": 85,
   "id": "b9af32f8",
   "metadata": {},
   "outputs": [
    {
     "name": "stdout",
     "output_type": "stream",
     "text": [
      "Enter a phrase: HIGI\n",
      "HGGG\n"
     ]
    }
   ],
   "source": [
    "print(translate(input(\"Enter a phrase: \")))"
   ]
  },
  {
   "cell_type": "code",
   "execution_count": 93,
   "id": "fc482633",
   "metadata": {},
   "outputs": [
    {
     "name": "stdout",
     "output_type": "stream",
     "text": [
      "division by zero\n"
     ]
    }
   ],
   "source": [
    "# Try/ Except \n",
    "\n",
    "try:\n",
    "    answer = 10/0\n",
    "    number = int(input(\"Enter a number: \"))\n",
    "    print(number)\n",
    "except ZeroDivisionError as err:\n",
    "    print(err)\n",
    "except ValueError:\n",
    "    print(\"invalid input\")\n"
   ]
  },
  {
   "cell_type": "code",
   "execution_count": 94,
   "id": "6010ec6a",
   "metadata": {},
   "outputs": [
    {
     "ename": "FileNotFoundError",
     "evalue": "[Errno 2] No such file or directory: 'file_name'",
     "output_type": "error",
     "traceback": [
      "\u001b[1;31m---------------------------------------------------------------------------\u001b[0m",
      "\u001b[1;31mFileNotFoundError\u001b[0m                         Traceback (most recent call last)",
      "Input \u001b[1;32mIn [94]\u001b[0m, in \u001b[0;36m<module>\u001b[1;34m\u001b[0m\n\u001b[0;32m      1\u001b[0m \u001b[38;5;66;03m# Reading Files\u001b[39;00m\n\u001b[0;32m      2\u001b[0m \u001b[38;5;66;03m# \"r\" - read file\u001b[39;00m\n\u001b[0;32m      3\u001b[0m \u001b[38;5;66;03m# \"w\" - write new information change the file \u001b[39;00m\n\u001b[0;32m      4\u001b[0m \u001b[38;5;66;03m# \"a\" - append add new information\u001b[39;00m\n\u001b[0;32m      5\u001b[0m \u001b[38;5;66;03m# \"r+\" - read and write\u001b[39;00m\n\u001b[1;32m----> 6\u001b[0m new_name \u001b[38;5;241m=\u001b[39m \u001b[38;5;28;43mopen\u001b[39;49m\u001b[43m(\u001b[49m\u001b[38;5;124;43m\"\u001b[39;49m\u001b[38;5;124;43mfile_name\u001b[39;49m\u001b[38;5;124;43m\"\u001b[39;49m\u001b[43m,\u001b[49m\u001b[38;5;124;43m\"\u001b[39;49m\u001b[38;5;124;43mr\u001b[39;49m\u001b[38;5;124;43m\"\u001b[39;49m\u001b[43m)\u001b[49m\n\u001b[0;32m      7\u001b[0m new_name\u001b[38;5;241m.\u001b[39mclose()\n",
      "\u001b[1;31mFileNotFoundError\u001b[0m: [Errno 2] No such file or directory: 'file_name'"
     ]
    }
   ],
   "source": [
    "# Reading Files\n",
    "# \"r\" - read file\n",
    "# \"w\" - write new information change the file \n",
    "# \"a\" - append add new information\n",
    "# \"r+\" - read and write\n",
    "new_name = open(\"file_name\",\"r\")\n",
    "new_name.close()\n"
   ]
  },
  {
   "cell_type": "code",
   "execution_count": null,
   "id": "2d9830b9",
   "metadata": {},
   "outputs": [],
   "source": [
    "# Class\n"
   ]
  }
 ],
 "metadata": {
  "kernelspec": {
   "display_name": "Python 3 (ipykernel)",
   "language": "python",
   "name": "python3"
  },
  "language_info": {
   "codemirror_mode": {
    "name": "ipython",
    "version": 3
   },
   "file_extension": ".py",
   "mimetype": "text/x-python",
   "name": "python",
   "nbconvert_exporter": "python",
   "pygments_lexer": "ipython3",
   "version": "3.9.7"
  }
 },
 "nbformat": 4,
 "nbformat_minor": 5
}
