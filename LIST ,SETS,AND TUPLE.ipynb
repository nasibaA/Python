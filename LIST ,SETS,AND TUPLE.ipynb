{
 "cells": [
  {
   "cell_type": "markdown",
   "id": "d5d26717",
   "metadata": {},
   "source": [
    "# List And Tuple "
   ]
  },
  {
   "cell_type": "code",
   "execution_count": 1,
   "id": "017e7f9a",
   "metadata": {},
   "outputs": [
    {
     "name": "stdout",
     "output_type": "stream",
     "text": [
      "['History', 'Math', 'Physics', 'CompSci', 'Art']\n"
     ]
    }
   ],
   "source": [
    "course = ['History','Math','Physics','CompSci']\n",
    "course.append('Art')\n",
    "print(course)"
   ]
  },
  {
   "cell_type": "code",
   "execution_count": 2,
   "id": "01d9464d",
   "metadata": {},
   "outputs": [
    {
     "name": "stdout",
     "output_type": "stream",
     "text": [
      "['Art', 'History', 'Math', 'Physics', 'CompSci']\n"
     ]
    }
   ],
   "source": [
    "course = ['History','Math','Physics','CompSci']\n",
    "course.insert(0,'Art')\n",
    "print(course)"
   ]
  },
  {
   "cell_type": "code",
   "execution_count": 3,
   "id": "3210f09e",
   "metadata": {},
   "outputs": [
    {
     "name": "stdout",
     "output_type": "stream",
     "text": [
      "[['Art', 'Education'], 'History', 'Math', 'Physics', 'CompSci']\n"
     ]
    }
   ],
   "source": [
    "course = ['History','Math','Physics','CompSci']\n",
    "course_2 = ['Art','Education']\n",
    "course.insert(0,course_2)\n",
    "print(course)"
   ]
  },
  {
   "cell_type": "code",
   "execution_count": 4,
   "id": "75c4c2c5",
   "metadata": {},
   "outputs": [
    {
     "name": "stdout",
     "output_type": "stream",
     "text": [
      "['Art', 'Education']\n"
     ]
    }
   ],
   "source": [
    "course = ['History','Math','Physics','CompSci']\n",
    "course_2 = ['Art','Education']\n",
    "course.insert(0,course_2)\n",
    "print(course[0])"
   ]
  },
  {
   "cell_type": "code",
   "execution_count": 5,
   "id": "1fb7c289",
   "metadata": {},
   "outputs": [
    {
     "name": "stdout",
     "output_type": "stream",
     "text": [
      "['History', 'Math', 'Physics', 'CompSci', 'Art', 'Education']\n"
     ]
    }
   ],
   "source": [
    "course = ['History','Math','Physics','CompSci']\n",
    "course_2 = ['Art','Education']\n",
    "course.extend(course_2)\n",
    "print(course)"
   ]
  },
  {
   "cell_type": "markdown",
   "id": "576f5ec1",
   "metadata": {},
   "source": [
    "append will add list in side the list [[[]]]\n",
    "\n",
    "\n",
    "extend will add our value in side list  []"
   ]
  },
  {
   "cell_type": "code",
   "execution_count": 6,
   "id": "3ece7b23",
   "metadata": {},
   "outputs": [
    {
     "name": "stdout",
     "output_type": "stream",
     "text": [
      "['History', 'Physics', 'CompSci']\n"
     ]
    }
   ],
   "source": [
    "course = ['History','Math','Physics','CompSci']\n",
    "course.remove('Math')\n",
    "print(course)"
   ]
  },
  {
   "cell_type": "code",
   "execution_count": 8,
   "id": "8c347cac",
   "metadata": {},
   "outputs": [
    {
     "name": "stdout",
     "output_type": "stream",
     "text": [
      "CompSci\n",
      "['History', 'Math', 'Physics']\n"
     ]
    }
   ],
   "source": [
    "course = ['History','Math','Physics','CompSci']\n",
    "popped = course.pop()\n",
    "print(popped)\n",
    "print(course) # pop will remove last item in the list "
   ]
  },
  {
   "cell_type": "code",
   "execution_count": 9,
   "id": "c14d481d",
   "metadata": {},
   "outputs": [
    {
     "name": "stdout",
     "output_type": "stream",
     "text": [
      "['CompSci', 'Physics', 'Math', 'History']\n"
     ]
    }
   ],
   "source": [
    "course = ['History','Math','Physics','CompSci']\n",
    "course.reverse()\n",
    "print(course)"
   ]
  },
  {
   "cell_type": "code",
   "execution_count": 10,
   "id": "4ce7647c",
   "metadata": {},
   "outputs": [
    {
     "name": "stdout",
     "output_type": "stream",
     "text": [
      "['History', 'Math', 'Physics', 'CompSci']\n"
     ]
    }
   ],
   "source": [
    "course = ['History','Math','Physics','CompSci']\n",
    "course[::-1]\n",
    "print(course)"
   ]
  },
  {
   "cell_type": "code",
   "execution_count": 11,
   "id": "f14f6ca9",
   "metadata": {},
   "outputs": [
    {
     "name": "stdout",
     "output_type": "stream",
     "text": [
      "sdrawkcab ekil skool txet siht woh rednow I\n"
     ]
    }
   ],
   "source": [
    "def my_function(x):\n",
    "  return x[::-1]\n",
    "\n",
    "mytxt = my_function(\"I wonder how this text looks like backwards\")\n",
    "\n",
    "print(mytxt)"
   ]
  },
  {
   "cell_type": "code",
   "execution_count": 12,
   "id": "adbd081e",
   "metadata": {},
   "outputs": [
    {
     "name": "stdout",
     "output_type": "stream",
     "text": [
      "['CompSci', 'History', 'Math', 'Physics']\n"
     ]
    }
   ],
   "source": [
    "course = ['History','Math','Physics','CompSci']\n",
    "course.sort()\n",
    "print(course)#sort alfabatical "
   ]
  },
  {
   "cell_type": "code",
   "execution_count": 13,
   "id": "008496dc",
   "metadata": {},
   "outputs": [
    {
     "name": "stdout",
     "output_type": "stream",
     "text": [
      "[1, 2, 3, 4, 5]\n",
      "['CompSci', 'History', 'Math', 'Physics']\n"
     ]
    }
   ],
   "source": [
    "course = ['History','Math','Physics','CompSci']\n",
    "nums = [1,5,2,4,3]\n",
    "nums.sort()\n",
    "course.sort()\n",
    "print(nums)\n",
    "print(course)"
   ]
  },
  {
   "cell_type": "code",
   "execution_count": 14,
   "id": "6ff5eda9",
   "metadata": {},
   "outputs": [
    {
     "name": "stdout",
     "output_type": "stream",
     "text": [
      "[5, 4, 3, 2, 1]\n",
      "['Physics', 'Math', 'History', 'CompSci']\n"
     ]
    }
   ],
   "source": [
    "course = ['History','Math','Physics','CompSci']\n",
    "nums = [1,5,2,4,3]\n",
    "nums.sort(reverse=True)\n",
    "course.sort(reverse=True)\n",
    "print(nums)\n",
    "print(course)"
   ]
  },
  {
   "cell_type": "code",
   "execution_count": 15,
   "id": "7366a059",
   "metadata": {},
   "outputs": [
    {
     "name": "stdout",
     "output_type": "stream",
     "text": [
      "['CompSci', 'History', 'Math', 'Physics']\n"
     ]
    }
   ],
   "source": [
    "course = ['History','Math','Physics','CompSci']\n",
    "sorted_courses = sorted(course)\n",
    "print(sorted_courses)"
   ]
  },
  {
   "cell_type": "code",
   "execution_count": 17,
   "id": "9e234112",
   "metadata": {},
   "outputs": [
    {
     "name": "stdout",
     "output_type": "stream",
     "text": [
      "1\n",
      "5\n",
      "15\n"
     ]
    }
   ],
   "source": [
    "nums = [1,5,2,4,3]\n",
    "print(min(nums))\n",
    "print(max(nums))\n",
    "print(sum(nums))"
   ]
  },
  {
   "cell_type": "code",
   "execution_count": 19,
   "id": "d49631ca",
   "metadata": {},
   "outputs": [
    {
     "name": "stdout",
     "output_type": "stream",
     "text": [
      "3\n"
     ]
    }
   ],
   "source": [
    "course = ['History','Math','Physics','CompSci']\n",
    "\n",
    "print(course.index('CompSci'))"
   ]
  },
  {
   "cell_type": "code",
   "execution_count": 20,
   "id": "00596fe8",
   "metadata": {},
   "outputs": [
    {
     "name": "stdout",
     "output_type": "stream",
     "text": [
      "True\n"
     ]
    }
   ],
   "source": [
    "course = ['History','Math','Physics','CompSci']\n",
    "\n",
    "print('Math' in course)"
   ]
  },
  {
   "cell_type": "code",
   "execution_count": 21,
   "id": "35a8b34c",
   "metadata": {},
   "outputs": [
    {
     "name": "stdout",
     "output_type": "stream",
     "text": [
      "History\n",
      "Math\n",
      "Physics\n",
      "CompSci\n"
     ]
    }
   ],
   "source": [
    "course = ['History','Math','Physics','CompSci']\n",
    "\n",
    "for item in course:\n",
    "    print(item)\n",
    "\n"
   ]
  },
  {
   "cell_type": "code",
   "execution_count": 24,
   "id": "e17a9e9b",
   "metadata": {},
   "outputs": [
    {
     "name": "stdout",
     "output_type": "stream",
     "text": [
      "0 History\n",
      "1 Math\n",
      "2 Physics\n",
      "3 CompSci\n"
     ]
    }
   ],
   "source": [
    "course = ['History','Math','Physics','CompSci']\n",
    "\n",
    "for index,item in enumerate(course):\n",
    "    print(index,item)"
   ]
  },
  {
   "cell_type": "code",
   "execution_count": 25,
   "id": "ee8a256e",
   "metadata": {},
   "outputs": [
    {
     "name": "stdout",
     "output_type": "stream",
     "text": [
      "1 History\n",
      "2 Math\n",
      "3 Physics\n",
      "4 CompSci\n"
     ]
    }
   ],
   "source": [
    "course = ['History','Math','Physics','CompSci']\n",
    "\n",
    "for index,item in enumerate(course,start=1):\n",
    "    print(index,item)"
   ]
  },
  {
   "cell_type": "code",
   "execution_count": 26,
   "id": "f4e018d2",
   "metadata": {},
   "outputs": [
    {
     "name": "stdout",
     "output_type": "stream",
     "text": [
      "History, Math, Physics, CompSci\n"
     ]
    }
   ],
   "source": [
    "course = ['History','Math','Physics','CompSci']\n",
    "course_str = ', '.join(course)\n",
    "print(course_str)"
   ]
  },
  {
   "cell_type": "code",
   "execution_count": 28,
   "id": "23235479",
   "metadata": {},
   "outputs": [
    {
     "name": "stdout",
     "output_type": "stream",
     "text": [
      "['History', 'Math', 'Physics', 'CompSci']\n",
      "['History', 'Math', 'Physics', 'CompSci']\n",
      "['Art', 'Math', 'Physics', 'CompSci']\n",
      "['Art', 'Math', 'Physics', 'CompSci']\n"
     ]
    }
   ],
   "source": [
    "list1 = ['History','Math','Physics','CompSci']\n",
    "list_2 = list1\n",
    "print(list1)\n",
    "print(list_2)\n",
    "\n",
    "\n",
    "list1[0] = 'Art'\n",
    "\n",
    "print(list1)\n",
    "print(list_2) # if you will change the item in the list it will change both because they equel."
   ]
  },
  {
   "cell_type": "markdown",
   "id": "84cc44d7",
   "metadata": {},
   "source": [
    "# tuple"
   ]
  },
  {
   "cell_type": "code",
   "execution_count": 29,
   "id": "32502893",
   "metadata": {},
   "outputs": [
    {
     "name": "stdout",
     "output_type": "stream",
     "text": [
      "('History', 'Math', 'Physics', 'CompSci')\n",
      "('History', 'Math', 'Physics', 'CompSci')\n"
     ]
    },
    {
     "ename": "TypeError",
     "evalue": "'tuple' object does not support item assignment",
     "output_type": "error",
     "traceback": [
      "\u001b[1;31m---------------------------------------------------------------------------\u001b[0m",
      "\u001b[1;31mTypeError\u001b[0m                                 Traceback (most recent call last)",
      "Input \u001b[1;32mIn [29]\u001b[0m, in \u001b[0;36m<module>\u001b[1;34m\u001b[0m\n\u001b[0;32m      3\u001b[0m \u001b[38;5;28mprint\u001b[39m(list1)\n\u001b[0;32m      4\u001b[0m \u001b[38;5;28mprint\u001b[39m(list_2)\n\u001b[1;32m----> 7\u001b[0m list1[\u001b[38;5;241m0\u001b[39m] \u001b[38;5;241m=\u001b[39m \u001b[38;5;124m'\u001b[39m\u001b[38;5;124mArt\u001b[39m\u001b[38;5;124m'\u001b[39m\n\u001b[0;32m      9\u001b[0m \u001b[38;5;28mprint\u001b[39m(list1)\n\u001b[0;32m     10\u001b[0m \u001b[38;5;28mprint\u001b[39m(list_2)\n",
      "\u001b[1;31mTypeError\u001b[0m: 'tuple' object does not support item assignment"
     ]
    }
   ],
   "source": [
    "list1 = ('History','Math','Physics','CompSci')\n",
    "list_2 = list1\n",
    "print(list1)\n",
    "print(list_2)\n",
    "\n",
    "\n",
    "list1[0] = 'Art'\n",
    "\n",
    "print(list1)\n",
    "print(list_2) # you can not change tuple we cannot remove we cannot append "
   ]
  },
  {
   "cell_type": "markdown",
   "id": "874ec80d",
   "metadata": {},
   "source": [
    "# Sets"
   ]
  },
  {
   "cell_type": "code",
   "execution_count": 37,
   "id": "1d7e98eb",
   "metadata": {},
   "outputs": [
    {
     "name": "stdout",
     "output_type": "stream",
     "text": [
      "{'Physics', 'CompSci', 'Math', 'History'}\n"
     ]
    }
   ],
   "source": [
    "course = {'History','Math','Physics','CompSci','Math'}\n",
    "print(course)# set will remove avtomaticly duplicates"
   ]
  },
  {
   "cell_type": "code",
   "execution_count": 39,
   "id": "6d529031",
   "metadata": {},
   "outputs": [
    {
     "name": "stdout",
     "output_type": "stream",
     "text": [
      "True\n"
     ]
    }
   ],
   "source": [
    "course = {'History','Math','Physics','CompSci','Math'}\n",
    "print('Math'in course)# set will remove avtomaticly duplicates"
   ]
  },
  {
   "cell_type": "code",
   "execution_count": 41,
   "id": "8383bb7a",
   "metadata": {},
   "outputs": [
    {
     "name": "stdout",
     "output_type": "stream",
     "text": [
      "{'Math', 'History'}\n"
     ]
    }
   ],
   "source": [
    "course = {'History','Math','Physics','CompSci'}\n",
    "art_course = {'History','Math','Art','Design'}\n",
    "print(course.intersection(art_course))"
   ]
  },
  {
   "cell_type": "code",
   "execution_count": 43,
   "id": "593a665b",
   "metadata": {},
   "outputs": [
    {
     "name": "stdout",
     "output_type": "stream",
     "text": [
      "{'Physics', 'CompSci'}\n"
     ]
    }
   ],
   "source": [
    "course = {'History','Math','Physics','CompSci'}\n",
    "art_course = {'History','Math','Art','Design'}\n",
    "print(course.difference(art_course))"
   ]
  },
  {
   "cell_type": "code",
   "execution_count": 44,
   "id": "b381e361",
   "metadata": {},
   "outputs": [
    {
     "name": "stdout",
     "output_type": "stream",
     "text": [
      "{'CompSci', 'Math', 'History', 'Design', 'Art', 'Physics'}\n"
     ]
    }
   ],
   "source": [
    "course = {'History','Math','Physics','CompSci'}\n",
    "art_course = {'History','Math','Art','Design'}\n",
    "print(course.union(art_course))"
   ]
  },
  {
   "cell_type": "code",
   "execution_count": 45,
   "id": "bb46edcf",
   "metadata": {},
   "outputs": [],
   "source": [
    "#empty list\n",
    "empty_list = []\n",
    "empty_list = list()\n",
    "\n",
    "#empty Tuples\n",
    "empty_tuple = ()\n",
    "empty_tuple = tuple()\n",
    "\n",
    "# empty set\n",
    "empty_set = set()\n",
    "\n",
    "\n",
    "#empty_dict\n",
    "empty_dict = {}"
   ]
  },
  {
   "cell_type": "code",
   "execution_count": null,
   "id": "7ee2226d",
   "metadata": {},
   "outputs": [],
   "source": []
  }
 ],
 "metadata": {
  "kernelspec": {
   "display_name": "Python 3 (ipykernel)",
   "language": "python",
   "name": "python3"
  },
  "language_info": {
   "codemirror_mode": {
    "name": "ipython",
    "version": 3
   },
   "file_extension": ".py",
   "mimetype": "text/x-python",
   "name": "python",
   "nbconvert_exporter": "python",
   "pygments_lexer": "ipython3",
   "version": "3.9.7"
  }
 },
 "nbformat": 4,
 "nbformat_minor": 5
}
