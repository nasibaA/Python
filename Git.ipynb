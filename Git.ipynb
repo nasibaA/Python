{
 "cells": [
  {
   "cell_type": "markdown",
   "id": "64459e66",
   "metadata": {},
   "source": [
    " Where is information about the history of the files in /home/repl/dental/data stored?\n",
    " \n",
    "# ls -a - can show us history"
   ]
  },
  {
   "cell_type": "markdown",
   "id": "0b177e34",
   "metadata": {},
   "source": [
    "How can I check the state of a repository?\n",
    "When you are using Git, you will frequently want to check the status of your repository.\n",
    "To do this, run the command git status, \n",
    "which displays a list of the files that have been modified since the last time changes were saved.\n",
    "\n",
    "# Git status"
   ]
  },
  {
   "cell_type": "code",
   "execution_count": null,
   "id": "2f56ce94",
   "metadata": {},
   "outputs": [],
   "source": [
    "How can I tell what I have changed?\n",
    "Git has a staging area in which it stores files with changes you want to save that haven't been saved yet. \n",
    "Putting files in the staging area is like putting things in a box, while committing those changes is like putting that box in the mail: \n",
    "you can add more things to the box or take things out as often as you want, but once you put it in the mail, you can't make further changes.\n",
    "\n",
    "\n",
    "\n",
    "git status -  shows you which files are in this staging area, and which files have changes that haven't yet been put there. \n",
    "In order to compare the file as it currently is to what you last saved, you can use - git diff filename. git diff without---any filenames will show you all the changes in your repository,\n",
    "while git diff directory will show you the changes to the files in some directory."
   ]
  },
  {
   "cell_type": "code",
   "execution_count": null,
   "id": "9bedbd89",
   "metadata": {},
   "outputs": [],
   "source": [
    "diff --git a/report.txt b/report.txt\n",
    "index e713b17..4c0742a 100644\n",
    "--- a/report.txt\n",
    "+++ b/report.txt\n",
    "@@ -1,4 +1,5 @@\n",
    "-# Seasonal Dental Surgeries 2017-18\n",
    "+# Seasonal Dental Surgeries (2017) 2017-18\n",
    "+# TODO: write new summary"
   ]
  },
  {
   "cell_type": "code",
   "execution_count": null,
   "id": "808cd4e0",
   "metadata": {},
   "outputs": [],
   "source": [
    "--- a/report.txt and +++ b/report.txt, \n",
    "wherein lines being removed are prefixed with - and lines being added are prefixed with +."
   ]
  },
  {
   "cell_type": "code",
   "execution_count": null,
   "id": "abbd0eae",
   "metadata": {},
   "outputs": [],
   "source": [
    "A line starting with @@ that tells where the changes are being made. The pairs of numbers are start \n",
    "line and number of lines (in that section of the file where changes occurred).\n",
    "This diff output indicates changes starting at line 1, with 5 lines where there were once 4."
   ]
  },
  {
   "cell_type": "code",
   "execution_count": null,
   "id": "01655b4a",
   "metadata": {},
   "outputs": [],
   "source": [
    "A line-by-line listing of the changes with - showing deletions and + showing additions (we have also configured Git to show deletions in red and additions in green). \n",
    "Lines that haven't changed are sometimes shown before and after the ones that have in order to give context; when they appear, \n",
    "they don't have either + or - in front of them."
   ]
  },
  {
   "cell_type": "code",
   "execution_count": null,
   "id": "7e70d503",
   "metadata": {},
   "outputs": [],
   "source": [
    "echo -e what you want to add in filename\n"
   ]
  },
  {
   "cell_type": "code",
   "execution_count": null,
   "id": "515b2bff",
   "metadata": {},
   "outputs": [],
   "source": [
    "If you accidentally mistype a commit message, you can change it using the --amend flag.\n",
    "\n",
    "git commit --amend - m \"new message\""
   ]
  },
  {
   "cell_type": "code",
   "execution_count": null,
   "id": "1271a3d0",
   "metadata": {},
   "outputs": [],
   "source": [
    "The command git log is used to view the log of the project's history. \n",
    "Log entries are shown most recent first, and look like this:\n",
    "    \n",
    "    \n",
    "commit 0430705487381195993bac9c21512ccfb511056d\n",
    "Author: Rep Loop <repl@datacamp.com>\n",
    "Date:   Wed Sep 20 13:42:26 2017 +0000\n",
    "\n",
    "    Added year to report title."
   ]
  },
  {
   "cell_type": "code",
   "execution_count": null,
   "id": "466ed987",
   "metadata": {},
   "outputs": [],
   "source": [
    "How can I view a specific file's history?\n",
    "A project's entire log can be overwhelming, so it's often useful to inspect only the changes to particular files or directories. \n",
    "You can do this using git log path, where path is the path to a specific file or directory. \n",
    "The log for a file shows changes made to that file; the log for a directory shows when files were added or deleted in that directory, \n",
    "rather than when the contents of the directory's files were changed.\n",
    "\n",
    "\n",
    "git log filename \n"
   ]
  },
  {
   "cell_type": "code",
   "execution_count": null,
   "id": "68eaad3f",
   "metadata": {},
   "outputs": [],
   "source": [
    "cd stands to change directory"
   ]
  },
  {
   "cell_type": "raw",
   "id": "4953b10e",
   "metadata": {},
   "source": [
    "mkdir - make deroctory make a folder."
   ]
  },
  {
   "cell_type": "code",
   "execution_count": null,
   "id": "37c83525",
   "metadata": {},
   "outputs": [],
   "source": [
    "touch namefile - create file insite folder."
   ]
  },
  {
   "cell_type": "code",
   "execution_count": null,
   "id": "3af3b7a1",
   "metadata": {},
   "outputs": [],
   "source": [
    "mv filename foldername - will move file insite folder."
   ]
  },
  {
   "cell_type": "code",
   "execution_count": null,
   "id": "f2746e4d",
   "metadata": {},
   "outputs": [],
   "source": [
    "if you type wrong you can just do ctrl C and it not gonna read that \n"
   ]
  },
  {
   "cell_type": "code",
   "execution_count": null,
   "id": "1855a050",
   "metadata": {},
   "outputs": [],
   "source": [
    "clear - will remove all your commend and will be clear and you will start from beginer."
   ]
  },
  {
   "cell_type": "code",
   "execution_count": null,
   "id": "b8e5b11f",
   "metadata": {},
   "outputs": [],
   "source": [
    "ls - it will shows you all the list.\n",
    "ls -la - gives you more information about that list,name who created and time when it created "
   ]
  },
  {
   "cell_type": "code",
   "execution_count": null,
   "id": "c105702d",
   "metadata": {},
   "outputs": [],
   "source": [
    "cd .. - will go back\n"
   ]
  },
  {
   "cell_type": "code",
   "execution_count": null,
   "id": "c3ee955d",
   "metadata": {},
   "outputs": [],
   "source": [
    "start. or start namefolder  - it will open that folder in new windows."
   ]
  },
  {
   "cell_type": "code",
   "execution_count": null,
   "id": "e3e9967f",
   "metadata": {},
   "outputs": [],
   "source": [
    "lss --help - it will shows you how to use that commed\n"
   ]
  },
  {
   "cell_type": "code",
   "execution_count": null,
   "id": "70f71f96",
   "metadata": {},
   "outputs": [],
   "source": [
    "rm filename - will remove that file "
   ]
  },
  {
   "cell_type": "code",
   "execution_count": null,
   "id": "9be7f51f",
   "metadata": {},
   "outputs": [],
   "source": [
    "rm * - will remove all file in that directory"
   ]
  },
  {
   "cell_type": "code",
   "execution_count": null,
   "id": "a65aa37c",
   "metadata": {},
   "outputs": [],
   "source": [
    "rm -r foldername - will delite that deroctory with file inside"
   ]
  },
  {
   "cell_type": "code",
   "execution_count": null,
   "id": "933b502f",
   "metadata": {},
   "outputs": [],
   "source": [
    "> filename  - will create the file "
   ]
  },
  {
   "cell_type": "code",
   "execution_count": null,
   "id": "b1642c85",
   "metadata": {},
   "outputs": [],
   "source": [
    "echo \"Hello Nasiba\" > filename - will create the file and inside file will be text - Hello Nasiba"
   ]
  },
  {
   "cell_type": "code",
   "execution_count": null,
   "id": "1da042c4",
   "metadata": {},
   "outputs": [],
   "source": [
    "cat filname - will give you content of that file which is Hello Nasiba."
   ]
  },
  {
   "cell_type": "code",
   "execution_count": null,
   "id": "34078c26",
   "metadata": {},
   "outputs": [],
   "source": [
    "cp - stands for copy file into the other folder\n",
    "cp filename foldername"
   ]
  },
  {
   "cell_type": "code",
   "execution_count": null,
   "id": "a0c38e38",
   "metadata": {},
   "outputs": [],
   "source": [
    "vim filrname - will open that file and you can make a change. if you dont want to save that you change it q! need right and press enter.\n",
    "ctrl X - will exit\n",
    "ctrl O - will save \n",
    "    "
   ]
  },
  {
   "cell_type": "code",
   "execution_count": null,
   "id": "e6db0f55",
   "metadata": {},
   "outputs": [],
   "source": [
    "mkdir newfolder\n",
    "cp newfolder/* oldfolder - will copy all information and will put into new folder."
   ]
  },
  {
   "cell_type": "code",
   "execution_count": null,
   "id": "5f55a3fa",
   "metadata": {},
   "outputs": [],
   "source": [
    "exit - will closed"
   ]
  }
 ],
 "metadata": {
  "kernelspec": {
   "display_name": "Python 3 (ipykernel)",
   "language": "python",
   "name": "python3"
  },
  "language_info": {
   "codemirror_mode": {
    "name": "ipython",
    "version": 3
   },
   "file_extension": ".py",
   "mimetype": "text/x-python",
   "name": "python",
   "nbconvert_exporter": "python",
   "pygments_lexer": "ipython3",
   "version": "3.9.7"
  }
 },
 "nbformat": 4,
 "nbformat_minor": 5
}
