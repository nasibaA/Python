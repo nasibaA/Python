{
 "cells": [
  {
   "cell_type": "code",
   "execution_count": 1,
   "id": "d5ad6916",
   "metadata": {},
   "outputs": [
    {
     "name": "stdout",
     "output_type": "stream",
     "text": [
      "{'name': 'John', 'age': 25, 'courses': ['Math', 'CompSci']}\n"
     ]
    }
   ],
   "source": [
    "student = {'name': 'John','age': 25, 'courses': ['Math','CompSci']}\n",
    "print(student)"
   ]
  },
  {
   "cell_type": "code",
   "execution_count": 4,
   "id": "fffdf38d",
   "metadata": {},
   "outputs": [
    {
     "name": "stdout",
     "output_type": "stream",
     "text": [
      "John\n",
      "['Math', 'CompSci']\n"
     ]
    }
   ],
   "source": [
    "student = {'name': 'John','age': 25, 'courses': ['Math','CompSci']}\n",
    "print(student['name'])\n",
    "print(student['courses'])"
   ]
  },
  {
   "cell_type": "code",
   "execution_count": 9,
   "id": "ade5ea4f",
   "metadata": {},
   "outputs": [
    {
     "name": "stdout",
     "output_type": "stream",
     "text": [
      "John\n",
      "None\n",
      "Not Found\n"
     ]
    }
   ],
   "source": [
    "student = {'name': 'John','age': 25, 'courses': ['Math','CompSci']}\n",
    "print(student.get('name'))\n",
    "print(student.get('phone'))\n",
    "print(student.get('phone','Not Found'))"
   ]
  },
  {
   "cell_type": "code",
   "execution_count": 11,
   "id": "5df6de48",
   "metadata": {},
   "outputs": [
    {
     "name": "stdout",
     "output_type": "stream",
     "text": [
      "{'name': 'Jane', 'age': 25, 'courses': ['Math', 'CompSci'], 'phone': '555-55555'}\n",
      "{'name': 'Nasiba', 'age': 31, 'courses': ['Math', 'CompSci'], 'phone': '899238032089'}\n"
     ]
    }
   ],
   "source": [
    "# update and insert\n",
    "student['phone'] = '555-55555'\n",
    "student['name'] = 'Jane'\n",
    "print(student)\n",
    "\n",
    "\n",
    "student.update({'name': 'Nasiba','age': 31,'phone':'899238032089'})\n",
    "\n",
    "print(student)"
   ]
  },
  {
   "cell_type": "code",
   "execution_count": 12,
   "id": "6e16e43a",
   "metadata": {},
   "outputs": [
    {
     "name": "stdout",
     "output_type": "stream",
     "text": [
      "{'name': 'Nasiba', 'courses': ['Math', 'CompSci'], 'phone': '899238032089'}\n"
     ]
    }
   ],
   "source": [
    "del student['age']\n",
    "print(student)"
   ]
  },
  {
   "cell_type": "code",
   "execution_count": 14,
   "id": "8f45c9d2",
   "metadata": {},
   "outputs": [
    {
     "name": "stdout",
     "output_type": "stream",
     "text": [
      "{'name': 'Nasiba', 'phone': '899238032089'}\n",
      "['Math', 'CompSci']\n"
     ]
    }
   ],
   "source": [
    "courses = student.pop('courses')\n",
    "print(student)\n",
    "print(courses)"
   ]
  },
  {
   "cell_type": "code",
   "execution_count": 19,
   "id": "17beca65",
   "metadata": {},
   "outputs": [
    {
     "name": "stdout",
     "output_type": "stream",
     "text": [
      "2\n",
      "dict_keys(['name', 'phone'])\n",
      "dict_values(['Nasiba', '899238032089'])\n",
      "dict_items([('name', 'Nasiba'), ('phone', '899238032089')])\n"
     ]
    }
   ],
   "source": [
    "# student len\n",
    "print(len(student))\n",
    "# student keys\n",
    "print(student.keys())\n",
    "# student values\n",
    "print(student.values())\n",
    "# student both keys and values\n",
    "print(student.items())"
   ]
  },
  {
   "cell_type": "code",
   "execution_count": 21,
   "id": "ac069c5f",
   "metadata": {},
   "outputs": [
    {
     "name": "stdout",
     "output_type": "stream",
     "text": [
      "name\n",
      "phone\n"
     ]
    }
   ],
   "source": [
    "for key in student:\n",
    "    print(key)"
   ]
  },
  {
   "cell_type": "code",
   "execution_count": 24,
   "id": "29b78968",
   "metadata": {},
   "outputs": [
    {
     "name": "stdout",
     "output_type": "stream",
     "text": [
      "name Nasiba\n",
      "phone 899238032089\n"
     ]
    }
   ],
   "source": [
    "for key,value in student.items():\n",
    "    print(key,value)"
   ]
  },
  {
   "cell_type": "code",
   "execution_count": null,
   "id": "4a84adc8",
   "metadata": {},
   "outputs": [],
   "source": []
  }
 ],
 "metadata": {
  "kernelspec": {
   "display_name": "Python 3 (ipykernel)",
   "language": "python",
   "name": "python3"
  },
  "language_info": {
   "codemirror_mode": {
    "name": "ipython",
    "version": 3
   },
   "file_extension": ".py",
   "mimetype": "text/x-python",
   "name": "python",
   "nbconvert_exporter": "python",
   "pygments_lexer": "ipython3",
   "version": "3.9.7"
  }
 },
 "nbformat": 4,
 "nbformat_minor": 5
}
